{
 "cells": [
  {
   "cell_type": "code",
   "execution_count": 1,
   "metadata": {},
   "outputs": [],
   "source": [
    "import cv2"
   ]
  },
  {
   "cell_type": "markdown",
   "metadata": {},
   "source": [
    "# read image"
   ]
  },
  {
   "cell_type": "code",
   "execution_count": 38,
   "metadata": {},
   "outputs": [],
   "source": [
    "# colord image\n",
    "img = cv2.imread('image2.jpg',1)"
   ]
  },
  {
   "cell_type": "code",
   "execution_count": 4,
   "metadata": {
    "collapsed": true
   },
   "outputs": [
    {
     "data": {
      "text/plain": [
       "array([[[ 28,  22,  17],\n",
       "        [ 29,  23,  18],\n",
       "        [ 29,  23,  18],\n",
       "        ...,\n",
       "        [221, 232, 236],\n",
       "        [223, 234, 238],\n",
       "        [224, 235, 239]],\n",
       "\n",
       "       [[ 28,  22,  17],\n",
       "        [ 29,  23,  18],\n",
       "        [ 29,  23,  18],\n",
       "        ...,\n",
       "        [221, 232, 236],\n",
       "        [223, 234, 238],\n",
       "        [223, 234, 238]],\n",
       "\n",
       "       [[ 28,  22,  17],\n",
       "        [ 28,  22,  17],\n",
       "        [ 29,  23,  18],\n",
       "        ...,\n",
       "        [222, 233, 237],\n",
       "        [222, 233, 237],\n",
       "        [223, 234, 238]],\n",
       "\n",
       "       ...,\n",
       "\n",
       "       [[188, 145,  96],\n",
       "        [189, 146,  97],\n",
       "        [190, 147,  98],\n",
       "        ...,\n",
       "        [ 68,  45,   0],\n",
       "        [ 72,  49,   4],\n",
       "        [ 76,  53,   8]],\n",
       "\n",
       "       [[189, 146,  97],\n",
       "        [190, 147,  98],\n",
       "        [191, 148,  99],\n",
       "        ...,\n",
       "        [ 68,  45,   0],\n",
       "        [ 71,  49,   7],\n",
       "        [ 76,  54,  12]],\n",
       "\n",
       "       [[188, 145,  96],\n",
       "        [188, 145,  96],\n",
       "        [189, 146,  97],\n",
       "        ...,\n",
       "        [ 68,  45,   0],\n",
       "        [ 71,  49,   7],\n",
       "        [ 77,  55,  13]]], dtype=uint8)"
      ]
     },
     "execution_count": 4,
     "metadata": {},
     "output_type": "execute_result"
    }
   ],
   "source": [
    "img"
   ]
  },
  {
   "cell_type": "code",
   "execution_count": 39,
   "metadata": {},
   "outputs": [],
   "source": [
    "# black & white \n",
    "img_bw = cv2.imread('image2.jpg',0)"
   ]
  },
  {
   "cell_type": "code",
   "execution_count": 40,
   "metadata": {
    "scrolled": true
   },
   "outputs": [
    {
     "data": {
      "text/plain": [
       "array([[245, 245, 245, ..., 221, 221, 221],\n",
       "       [245, 245, 245, ..., 221, 221, 221],\n",
       "       [245, 245, 245, ..., 221, 221, 221],\n",
       "       ...,\n",
       "       [195, 195, 196, ..., 179, 180, 173],\n",
       "       [196, 196, 197, ..., 176, 181, 177],\n",
       "       [197, 197, 198, ..., 173, 182, 183]], dtype=uint8)"
      ]
     },
     "execution_count": 40,
     "metadata": {},
     "output_type": "execute_result"
    }
   ],
   "source": [
    "img_bw"
   ]
  },
  {
   "cell_type": "code",
   "execution_count": 6,
   "metadata": {},
   "outputs": [
    {
     "name": "stdout",
     "output_type": "stream",
     "text": [
      "<class 'numpy.ndarray'>\n"
     ]
    }
   ],
   "source": [
    "print(type(img))"
   ]
  },
  {
   "cell_type": "code",
   "execution_count": 41,
   "metadata": {},
   "outputs": [
    {
     "data": {
      "text/plain": [
       "(800, 1200, 3)"
      ]
     },
     "execution_count": 41,
     "metadata": {},
     "output_type": "execute_result"
    }
   ],
   "source": [
    "img.shape"
   ]
  },
  {
   "cell_type": "code",
   "execution_count": 42,
   "metadata": {},
   "outputs": [
    {
     "data": {
      "text/plain": [
       "(800, 1200)"
      ]
     },
     "execution_count": 42,
     "metadata": {},
     "output_type": "execute_result"
    }
   ],
   "source": [
    "img_bw.shape"
   ]
  },
  {
   "cell_type": "markdown",
   "metadata": {},
   "source": [
    "# display image"
   ]
  },
  {
   "cell_type": "code",
   "execution_count": 43,
   "metadata": {},
   "outputs": [],
   "source": [
    "cv2.imshow('Faces', img_bw)\n",
    "cv2.waitKey(0)\n",
    "# cv2.waitKey(2000)\n",
    "cv2.destroyAllWindows()"
   ]
  },
  {
   "cell_type": "markdown",
   "metadata": {},
   "source": [
    "# resize image"
   ]
  },
  {
   "cell_type": "code",
   "execution_count": 44,
   "metadata": {},
   "outputs": [],
   "source": [
    "rs_img = cv2.resize(img, (int(img.shape[1]/2), int(img.shape[0]/2)))"
   ]
  },
  {
   "cell_type": "code",
   "execution_count": 45,
   "metadata": {},
   "outputs": [],
   "source": [
    "cv2.imshow('Resize', rs_img)\n",
    "#cv2.waitKey(0)\n",
    "cv2.waitKey(2000)\n",
    "cv2.destroyAllWindows()"
   ]
  },
  {
   "cell_type": "markdown",
   "metadata": {},
   "source": [
    "# face detection "
   ]
  },
  {
   "cell_type": "code",
   "execution_count": 46,
   "metadata": {},
   "outputs": [],
   "source": [
    "# creating cascade classifier object\n",
    "face_cascade = cv2.CascadeClassifier(cv2.data.haarcascades + \"haarcascade_frontalface_default.xml\")"
   ]
  },
  {
   "cell_type": "code",
   "execution_count": 47,
   "metadata": {},
   "outputs": [],
   "source": [
    "# reading the image\n",
    "img2 = cv2.imread(\"image2.jpg\")"
   ]
  },
  {
   "cell_type": "code",
   "execution_count": 48,
   "metadata": {},
   "outputs": [],
   "source": [
    "# reading the image as gray scale image\n",
    "gray_img2 = cv2.cvtColor(img2, cv2.COLOR_BGR2GRAY)"
   ]
  },
  {
   "cell_type": "code",
   "execution_count": 49,
   "metadata": {},
   "outputs": [],
   "source": [
    "# search the co-ordinate of the image\n",
    "faces = face_cascade.detectMultiScale(gray_img2, scaleFactor=1.05, minNeighbors=5)"
   ]
  },
  {
   "cell_type": "code",
   "execution_count": 34,
   "metadata": {},
   "outputs": [
    {
     "name": "stdout",
     "output_type": "stream",
     "text": [
      "<class 'numpy.ndarray'>\n"
     ]
    }
   ],
   "source": [
    "print(type(faces))"
   ]
  },
  {
   "cell_type": "code",
   "execution_count": 50,
   "metadata": {
    "collapsed": true
   },
   "outputs": [
    {
     "name": "stdout",
     "output_type": "stream",
     "text": [
      "[[ 828  435  152  152]\n",
      " [ 227   35  136  136]\n",
      " [ 431   37  134  134]\n",
      " [1036   30  140  140]\n",
      " [ 636   40  129  129]\n",
      " [  25  236  138  138]\n",
      " [ 828   29  153  153]\n",
      " [ 634  240  133  133]\n",
      " [  28   41  129  129]\n",
      " [ 224  235  142  142]\n",
      " [ 420  439  144  144]\n",
      " [1035  238  140  140]\n",
      " [ 418  229  161  161]\n",
      " [ 835  240  139  139]\n",
      " [  30  441  135  135]\n",
      " [ 219  432  153  153]\n",
      " [1038  443  134  134]\n",
      " [ 626  436  148  148]\n",
      " [ 434  646  131  131]\n",
      " [  31  646  128  128]\n",
      " [ 837  642  134  134]\n",
      " [ 631  639  140  140]\n",
      " [1035  642  139  139]\n",
      " [ 227  643  136  136]]\n"
     ]
    }
   ],
   "source": [
    "print(faces)"
   ]
  },
  {
   "cell_type": "code",
   "execution_count": 51,
   "metadata": {},
   "outputs": [],
   "source": [
    "# plotting rectangle\n",
    "for x,y,w,h in faces:\n",
    "    img = cv2.rectangle(img2, (x,y), (x+w,y+h), (0,255,0), 3)"
   ]
  },
  {
   "cell_type": "code",
   "execution_count": 52,
   "metadata": {},
   "outputs": [],
   "source": [
    "#resize = cv2.resize(img, (int(img.shape)))\n",
    "cv2.imshow('Gray', img)\n",
    "cv2.waitKey(0)\n",
    "# cv2.waitKey(2000)\n",
    "cv2.destroyAllWindows()"
   ]
  },
  {
   "cell_type": "code",
   "execution_count": null,
   "metadata": {},
   "outputs": [],
   "source": []
  }
 ],
 "metadata": {
  "kernelspec": {
   "display_name": "Python 3",
   "language": "python",
   "name": "python3"
  },
  "language_info": {
   "codemirror_mode": {
    "name": "ipython",
    "version": 3
   },
   "file_extension": ".py",
   "mimetype": "text/x-python",
   "name": "python",
   "nbconvert_exporter": "python",
   "pygments_lexer": "ipython3",
   "version": "3.7.7"
  }
 },
 "nbformat": 4,
 "nbformat_minor": 4
}
