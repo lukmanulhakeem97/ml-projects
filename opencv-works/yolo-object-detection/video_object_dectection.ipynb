{
 "cells": [
  {
   "cell_type": "code",
   "execution_count": 1,
   "metadata": {
    "executionInfo": {
     "elapsed": 412,
     "status": "ok",
     "timestamp": 1648044523037,
     "user": {
      "displayName": "lukman",
      "photoUrl": "https://lh3.googleusercontent.com/a-/AOh14GgYWpdLEDBgd-A_noCt6O-q-oYOLk5CEobYugF7pw=s64",
      "userId": "07982345385280399353"
     },
     "user_tz": -330
    },
    "id": "iDLcAk8PDUHd"
   },
   "outputs": [],
   "source": [
    "import time\n",
    "import cv2\n",
    "import numpy as np"
   ]
  },
  {
   "cell_type": "code",
   "execution_count": 2,
   "metadata": {
    "colab": {
     "base_uri": "https://localhost:8080/",
     "height": 1000,
     "output_embedded_package_id": "1zfvzLQtYSriv_HUKj623V8VYKZ2Tb2-p"
    },
    "executionInfo": {
     "elapsed": 13719,
     "status": "error",
     "timestamp": 1648044631900,
     "user": {
      "displayName": "lukman",
      "photoUrl": "https://lh3.googleusercontent.com/a-/AOh14GgYWpdLEDBgd-A_noCt6O-q-oYOLk5CEobYugF7pw=s64",
      "userId": "07982345385280399353"
     },
     "user_tz": -330
    },
    "id": "leO4hyKr375L",
    "outputId": "bb6c1eb2-e62f-405e-dc0a-61c924413c99"
   },
   "outputs": [
    {
     "name": "stdout",
     "output_type": "stream",
     "text": [
      "time:  95.15625 ms\n"
     ]
    }
   ],
   "source": [
    "tic = time.process_time()\n",
    "\n",
    "net = cv2.dnn.readNet('yolov3.weights', 'yolov3.cfg')\n",
    "\n",
    "classes = []\n",
    "with open('coco.names', 'r') as f:\n",
    "      classes = f.read().splitlines()\n",
    "\n",
    "cap = cv2.VideoCapture(0) # to detect from recorded video, use file path as argument instead '0'.\n",
    "\n",
    "while True:\n",
    "    \n",
    "    check, img = cap.read()\n",
    "    if check==True:\n",
    "        height, width, _ = img.shape\n",
    "\n",
    "        blob = cv2.dnn.blobFromImage(img, 1/255, (416, 416), (0, 0, 0), swapRB=True, crop=False)\n",
    "        net.setInput(blob)\n",
    "        output_layers_names = net.getUnconnectedOutLayersNames()\n",
    "        layerOutputs = net.forward(output_layers_names)\n",
    "\n",
    "        boxes = []\n",
    "        confidences = []\n",
    "        class_ids = []\n",
    "\n",
    "        for output in layerOutputs:\n",
    "            for detection in output:\n",
    "                scores = detection[5:]\n",
    "                class_id = np.argmax(scores)\n",
    "                confidence = scores[class_id]\n",
    "                if confidence > 0.5:\n",
    "                    center_x = int(detection[0]*width)\n",
    "                    center_y = int(detection[1]*height)\n",
    "                    w = int(detection[2]*width)\n",
    "                    h = int(detection[3]*height)\n",
    "\n",
    "                    x = int(center_x - w/2)\n",
    "                    y = int(center_y - h/2)\n",
    "\n",
    "                    boxes.append([x, y, w, h])\n",
    "                    confidences.append((float(confidence)))\n",
    "                    class_ids.append(class_id)\n",
    "\n",
    "        indexes = cv2.dnn.NMSBoxes(boxes, confidences, 0.5, 0.4)\n",
    "\n",
    "        # plotting\n",
    "        font = cv2.FONT_HERSHEY_PLAIN\n",
    "        colors = np.random.uniform(0, 255, size=(len(boxes), 3))\n",
    "        \n",
    "        if len(indexes)>0:\n",
    "            for i in indexes.flatten():\n",
    "                x, y, w, h = boxes[i]\n",
    "                label = str(classes[class_ids[i]])\n",
    "                confidence = str(round(confidences[i], 2))\n",
    "                color = colors[i]\n",
    "                cv2.rectangle(img, (x, y), (x+w, y+h), color, 1)\n",
    "                cv2.putText(img, label + ' ' + confidence, (x, y), font, 1, (255, 255, 255), 1)\n",
    "\n",
    "            cv2.imshow('Image', img)\n",
    "            key = cv2.waitKey(1)\n",
    "            if key==ord('q'):\n",
    "                break\n",
    "        \n",
    "    else:\n",
    "        break\n",
    "\n",
    "cap.release()\n",
    "cv2.destroyAllWindows()\n",
    "toc = time.process_time()\n",
    "print('time: ', toc-tic, 'ms')"
   ]
  },
  {
   "cell_type": "code",
   "execution_count": null,
   "metadata": {},
   "outputs": [],
   "source": []
  }
 ],
 "metadata": {
  "colab": {
   "authorship_tag": "ABX9TyN2sQ8MO1VWSqg6q3mSObM9",
   "collapsed_sections": [],
   "mount_file_id": "1PD7O_tUrcN4scSgEhCGYy3R7kv5ZH3-G",
   "name": "video-object-detection.ipynb",
   "provenance": []
  },
  "kernelspec": {
   "display_name": "Python 3",
   "language": "python",
   "name": "python3"
  },
  "language_info": {
   "codemirror_mode": {
    "name": "ipython",
    "version": 3
   },
   "file_extension": ".py",
   "mimetype": "text/x-python",
   "name": "python",
   "nbconvert_exporter": "python",
   "pygments_lexer": "ipython3",
   "version": "3.7.7"
  }
 },
 "nbformat": 4,
 "nbformat_minor": 1
}
